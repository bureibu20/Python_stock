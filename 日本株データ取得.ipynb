{
 "cells": [
  {
   "cell_type": "code",
   "execution_count": null,
   "metadata": {},
   "outputs": [],
   "source": [
    "def japan_stock_data(codelist, start, end):\n",
    "    \n",
    "    \"\"\"日本株のデータを取得\n",
    "\n",
    "    japan_stock_data()を使用する前に以下のパッケージをインストールすること\n",
    "    ・ pip install yfinance\n",
    "    ・ pip install pandas_datareader\n",
    "\n",
    "    Yahooファイナンスから日本株データ取得する\n",
    "    \n",
    "    以下使用例  \n",
    "    codelist = [2121, 9984 ,7777, 6758, 1570]\n",
    "    japan_stock_data(codelist, '2016-1-1', '2021-12-31')\n",
    "    \n",
    "    スクレイピングのためGoogle colaboratoryから実行するほうが良い。\n",
    "\n",
    "    \"\"\"\n",
    "\n",
    "    import pandas as pd\n",
    "    import yfinance as yf\n",
    "    import datetime\n",
    "    from pandas_datareader import data as pdr\n",
    "\n",
    "    yf.pdr_override() #pandas_datareaderにオーバーライドさせる\n",
    "    \n",
    "    error_code = []\n",
    "    stock_data = []\n",
    "    \n",
    "    for code in codelist:\n",
    "        code = '{}.T'.format(code)\n",
    "        start = pd.to_datetime(start)\n",
    "        end = pd.to_datetime(end)\n",
    "        historical_data = pdr.get_data_yahoo(tickers=code, start=start, end=end, retry_count=1)\n",
    "        \n",
    "        if len(historical_data) == 0:\n",
    "            error_code.append(code)\n",
    "            continue\n",
    "        else:\n",
    "            stock_data.append(code)\n",
    "        historical_data.to_csv(\"{}_data.csv\".format(code))\n",
    "        \n",
    "    print(error_code, \"が見つかりませんでした\")\n",
    "    print(stock_data, \"を保存しました\")\n",
    "    "
   ]
  },
  {
   "cell_type": "code",
   "execution_count": null,
   "metadata": {},
   "outputs": [],
   "source": [
    "#以下使用例\n",
    "codelist = [2121, 9984 ,7777, 6758, 1570]\n",
    "japan_stock_data(codelist, '2016-1-1', '2021-12-31')"
   ]
  }
 ],
 "metadata": {
  "kernelspec": {
   "display_name": "Python 3",
   "language": "python",
   "name": "python3"
  },
  "language_info": {
   "codemirror_mode": {
    "name": "ipython",
    "version": 3
   },
   "file_extension": ".py",
   "mimetype": "text/x-python",
   "name": "python",
   "nbconvert_exporter": "python",
   "pygments_lexer": "ipython3",
   "version": "3.8.5"
  }
 },
 "nbformat": 4,
 "nbformat_minor": 4
}
